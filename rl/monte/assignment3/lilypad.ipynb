{
 "cells": [
  {
   "cell_type": "code",
   "execution_count": 34,
   "metadata": {
    "collapsed": true
   },
   "outputs": [],
   "source": [
    "from rl.markov_decision_process import FiniteMarkovDecisionProcess\n",
    "from rl.policy import FiniteDeterministicPolicy\n",
    "from rl.distribution import Categorical, Choose\n",
    "from typing import Mapping\n",
    "import numpy as np\n",
    "import matplotlib.pyplot as plt"
   ]
  },
  {
   "cell_type": "code",
   "execution_count": 55,
   "outputs": [],
   "source": [
    "N = 8\n",
    "\n",
    "def all_other_lilies(i, N):\n",
    "    for i in range(i):\n",
    "        yield i, 0\n",
    "    for j in range(i+1,N):\n",
    "        yield j, 0\n",
    "    yield N, 1\n",
    "\n",
    "def construct_lily_mapping(N):\n",
    "    mapping = {\n",
    "        i: {\n",
    "            'A': Categorical({(i-1, 0): i/N, (i+1, 1. if i+1 == N else 0.): (N-i)/N}),\n",
    "            'B': Choose(all_other_lilies(i, N))\n",
    "        }\n",
    "        for i in range(1,N)\n",
    "    }\n",
    "    return mapping\n",
    "\n",
    "\n",
    "lilypadMDP = FiniteMarkovDecisionProcess(construct_lily_mapping(N))"
   ],
   "metadata": {
    "collapsed": false,
    "pycharm": {
     "name": "#%%\n"
    }
   }
  },
  {
   "cell_type": "code",
   "execution_count": 69,
   "outputs": [
    {
     "name": "stdout",
     "output_type": "stream",
     "text": [
      "Optimal policy is:\n",
      "For State 1: Do Action B\n",
      "For State 2: Do Action A\n",
      "\n",
      "with value function:\n",
      "[0.57142857 0.71428571]\n",
      "and probability of success = 0.6428571428571429 assuming starting position is chosen uniformly at random among nonterminal lilypads.\n"
     ]
    }
   ],
   "source": [
    "def construct_all_deterministic_policies(N: int):\n",
    "    # a policy is equivalent to an N-bit binary number\n",
    "    for policy in range(2**N):\n",
    "        yield FiniteDeterministicPolicy({i: 'B' if ((1 << (i-1)) & policy) else 'A' for i in range(1,N)})\n",
    "\n",
    "def compute_optimal_vf_and_policy(N: int):\n",
    "    v_star = np.zeros(N-1)\n",
    "    opt_policy = None\n",
    "    mrp_v_star = None\n",
    "    lilypadMDP = FiniteMarkovDecisionProcess(construct_lily_mapping(N))\n",
    "    for n, policy in enumerate(construct_all_deterministic_policies(N)):\n",
    "        mrp = lilypadMDP.apply_finite_policy(policy)\n",
    "        v_star = np.maximum(v_star, mrp.get_value_function_vec(1))\n",
    "        if np.equal(v_star, mrp.get_value_function_vec(1)).all():\n",
    "            opt_policy, mrp_v_star = policy, mrp.get_value_function_vec(1)\n",
    "    assert np.equal(v_star, mrp_v_star).all()\n",
    "    return v_star, opt_policy\n",
    "\n",
    "def print_optimal_info(N: int):\n",
    "    v_star, opt_policy = compute_optimal_vf_and_policy(N)\n",
    "    print(\"Optimal policy is:\")\n",
    "    print(opt_policy)\n",
    "    print(\"with value function:\")\n",
    "    print(v_star)\n",
    "    print(f\"and probability of success = { np.mean(v_star) } assuming starting position is chosen uniformly at random among nonterminal lilypads.\")\n",
    "\n",
    "print_optimal_info(3)"
   ],
   "metadata": {
    "collapsed": false,
    "pycharm": {
     "name": "#%%\n"
    }
   }
  },
  {
   "cell_type": "code",
   "execution_count": 70,
   "outputs": [
    {
     "data": {
      "text/plain": "<Figure size 432x288 with 1 Axes>",
      "image/png": "[encoded data removed]"
     },
     "metadata": {
      "needs_background": "light"
     },
     "output_type": "display_data"
    }
   ],
   "source": [
    "data = [np.mean(compute_optimal_vf_and_policy(i)[0]) for i in range(3,10)]\n",
    "plt.scatter(np.arange(3,10), data)\n",
    "plt.xlabel(\"N (number of states)\")\n",
    "plt.ylabel(\"Optimal escape probability\")\n",
    "plt.savefig(\"opt_esc_prob.png\")\n",
    "plt.show()"
   ],
   "metadata": {
    "collapsed": false,
    "pycharm": {
     "name": "#%%\n"
    }
   }
  },
  {
   "cell_type": "code",
   "execution_count": null,
   "outputs": [],
   "source": [],
   "metadata": {
    "collapsed": false,
    "pycharm": {
     "name": "#%%\n"
    }
   }
  }
 ],
 "metadata": {
  "kernelspec": {
   "display_name": "Python 3",
   "language": "python",
   "name": "python3"
  },
  "language_info": {
   "codemirror_mode": {
    "name": "ipython",
    "version": 2
   },
   "file_extension": ".py",
   "mimetype": "text/x-python",
   "name": "python",
   "nbconvert_exporter": "python",
   "pygments_lexer": "ipython2",
   "version": "2.7.6"
  }
 },
 "nbformat": 4,
 "nbformat_minor": 0
}